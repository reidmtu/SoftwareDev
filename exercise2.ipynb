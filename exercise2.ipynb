{
 "cells": [
  {
   "cell_type": "code",
   "execution_count": 1,
   "id": "f1fa0372",
   "metadata": {},
   "outputs": [],
   "source": [
    "#exercise2"
   ]
  },
  {
   "cell_type": "code",
   "execution_count": 2,
   "id": "bc8d1a86",
   "metadata": {},
   "outputs": [],
   "source": [
    "#Create a lotto game number generator (i.e. the six different numbers).\n",
    "#A user should be able to see if a number was in the draw. Problem should only use lists (no other collection type."
   ]
  },
  {
   "cell_type": "code",
   "execution_count": 2,
   "id": "6ef084d1",
   "metadata": {},
   "outputs": [],
   "source": [
    "import random"
   ]
  },
  {
   "cell_type": "code",
   "execution_count": 3,
   "id": "6c31ae1f",
   "metadata": {},
   "outputs": [
    {
     "data": {
      "text/plain": [
       "[36, 39, 58, 1, 4, 46]"
      ]
     },
     "execution_count": 3,
     "metadata": {},
     "output_type": "execute_result"
    }
   ],
   "source": [
    "[random.randint(0, 100) for i in range(6)]"
   ]
  },
  {
   "cell_type": "code",
   "execution_count": 4,
   "id": "b5feb5a4",
   "metadata": {},
   "outputs": [
    {
     "data": {
      "text/plain": [
       "[11, 79, 53, 81, 72, 10]"
      ]
     },
     "execution_count": 4,
     "metadata": {},
     "output_type": "execute_result"
    }
   ],
   "source": [
    "[random.randint(0, 100) for i in range(6)]"
   ]
  },
  {
   "cell_type": "code",
   "execution_count": 5,
   "id": "d7d75075",
   "metadata": {},
   "outputs": [
    {
     "data": {
      "text/plain": [
       "[22, 82, 87, 50, 54, 30]"
      ]
     },
     "execution_count": 5,
     "metadata": {},
     "output_type": "execute_result"
    }
   ],
   "source": [
    "[random.randint(0, 100) for i in range(6)]"
   ]
  },
  {
   "cell_type": "code",
   "execution_count": 6,
   "id": "c349cb08",
   "metadata": {},
   "outputs": [
    {
     "data": {
      "text/plain": [
       "[87, 35, 60, 78, 5, 48]"
      ]
     },
     "execution_count": 6,
     "metadata": {},
     "output_type": "execute_result"
    }
   ],
   "source": [
    "[random.randint(0, 100) for i in range(6)]"
   ]
  },
  {
   "cell_type": "code",
   "execution_count": 7,
   "id": "d66c850c",
   "metadata": {},
   "outputs": [
    {
     "data": {
      "text/plain": [
       "type[[56, 92, 2, 89, 29, 77]]"
      ]
     },
     "execution_count": 7,
     "metadata": {},
     "output_type": "execute_result"
    }
   ],
   "source": [
    "type[[random.randint(0, 100) for i in range(6)]]"
   ]
  },
  {
   "cell_type": "code",
   "execution_count": 8,
   "id": "dc1cdd57",
   "metadata": {},
   "outputs": [
    {
     "data": {
      "text/plain": [
       "list"
      ]
     },
     "execution_count": 8,
     "metadata": {},
     "output_type": "execute_result"
    }
   ],
   "source": [
    "type([random.randint(0, 100) for i in range(6)])"
   ]
  },
  {
   "cell_type": "code",
   "execution_count": 9,
   "id": "4f642a9c",
   "metadata": {},
   "outputs": [
    {
     "name": "stdout",
     "output_type": "stream",
     "text": [
      "Please enter the six numbers you wish to check, leaving a space between the numbers \n"
     ]
    }
   ],
   "source": [
    "numbers = input(\"Please enter the six numbers you wish to check, leaving a space between the numbers \")\n",
    "numbers = numbers.split(\" \")"
   ]
  },
  {
   "cell_type": "code",
   "execution_count": 10,
   "id": "8d79d630",
   "metadata": {},
   "outputs": [
    {
     "data": {
      "text/plain": [
       "list"
      ]
     },
     "execution_count": 10,
     "metadata": {},
     "output_type": "execute_result"
    }
   ],
   "source": [
    "type(numbers)"
   ]
  },
  {
   "cell_type": "code",
   "execution_count": 11,
   "id": "1db76358",
   "metadata": {},
   "outputs": [
    {
     "name": "stdout",
     "output_type": "stream",
     "text": [
      "Please enter the six numbers you wish to check, leaving a space between the numbers 6 8 9 11 22 54\n"
     ]
    }
   ],
   "source": [
    "players_numbers = input(\"Please enter the six numbers you wish to check, leaving a space between the numbers \")\n",
    "players_numbers = players_numbers.split(\" \")"
   ]
  },
  {
   "cell_type": "code",
   "execution_count": 12,
   "id": "2dbf8da5",
   "metadata": {},
   "outputs": [],
   "source": [
    "lotto_numbers = [random.randint(0, 100) for i in range(6)]"
   ]
  },
  {
   "cell_type": "code",
   "execution_count": 13,
   "id": "fc851aba",
   "metadata": {},
   "outputs": [
    {
     "data": {
      "text/plain": [
       "[30, 12, 76, 12, 17, 33]"
      ]
     },
     "execution_count": 13,
     "metadata": {},
     "output_type": "execute_result"
    }
   ],
   "source": [
    "lotto_numbers"
   ]
  },
  {
   "cell_type": "code",
   "execution_count": 14,
   "id": "d086ca95",
   "metadata": {},
   "outputs": [
    {
     "data": {
      "text/plain": [
       "[30, 12, 76, 12, 17, 33]"
      ]
     },
     "execution_count": 14,
     "metadata": {},
     "output_type": "execute_result"
    }
   ],
   "source": [
    "lotto_numbers"
   ]
  },
  {
   "cell_type": "code",
   "execution_count": 1,
   "id": "ba73a301",
   "metadata": {},
   "outputs": [
    {
     "ename": "NameError",
     "evalue": "name 'lotto_numbers' is not defined",
     "output_type": "error",
     "traceback": [
      "\u001b[1;31m---------------------------------------------------------------------------\u001b[0m",
      "\u001b[1;31mNameError\u001b[0m                                 Traceback (most recent call last)",
      "Input \u001b[1;32mIn [1]\u001b[0m, in \u001b[0;36m<cell line: 1>\u001b[1;34m()\u001b[0m\n\u001b[1;32m----> 1\u001b[0m \u001b[43mlotto_numbers\u001b[49m[\u001b[38;5;241m1\u001b[39m]\n",
      "\u001b[1;31mNameError\u001b[0m: name 'lotto_numbers' is not defined"
     ]
    }
   ],
   "source": [
    "lotto_numbers[1]"
   ]
  },
  {
   "cell_type": "code",
   "execution_count": 15,
   "id": "d6f1b18d",
   "metadata": {},
   "outputs": [
    {
     "name": "stdout",
     "output_type": "stream",
     "text": [
      "12\n"
     ]
    }
   ],
   "source": [
    "print(lotto_numbers[1])"
   ]
  },
  {
   "cell_type": "code",
   "execution_count": 16,
   "id": "381b879e",
   "metadata": {},
   "outputs": [
    {
     "name": "stdout",
     "output_type": "stream",
     "text": [
      "12\n"
     ]
    },
    {
     "data": {
      "text/plain": [
       "NoneType"
      ]
     },
     "execution_count": 16,
     "metadata": {},
     "output_type": "execute_result"
    }
   ],
   "source": [
    "type(print(lotto_numbers[1]))"
   ]
  },
  {
   "cell_type": "code",
   "execution_count": 17,
   "id": "12a18c23",
   "metadata": {},
   "outputs": [
    {
     "data": {
      "text/plain": [
       "int"
      ]
     },
     "execution_count": 17,
     "metadata": {},
     "output_type": "execute_result"
    }
   ],
   "source": [
    "type(lotto_numbers[1])"
   ]
  },
  {
   "cell_type": "code",
   "execution_count": 18,
   "id": "0d4add6c",
   "metadata": {},
   "outputs": [
    {
     "data": {
      "text/plain": [
       "str"
      ]
     },
     "execution_count": 18,
     "metadata": {},
     "output_type": "execute_result"
    }
   ],
   "source": [
    "type(players_numbers[1])"
   ]
  },
  {
   "cell_type": "code",
   "execution_count": 28,
   "id": "888c7b93",
   "metadata": {},
   "outputs": [
    {
     "name": "stdout",
     "output_type": "stream",
     "text": [
      "[6, 8, 9, 11, 22, 54]\n"
     ]
    }
   ],
   "source": [
    "players_numbers\n",
    "ints_in_list = []\n",
    "\n",
    "for element in players_numbers:\n",
    "    ints_in_list.append(int(element))\n",
    "print(ints_in_list)"
   ]
  },
  {
   "cell_type": "code",
   "execution_count": 29,
   "id": "2a841b75",
   "metadata": {},
   "outputs": [
    {
     "data": {
      "text/plain": [
       "int"
      ]
     },
     "execution_count": 29,
     "metadata": {},
     "output_type": "execute_result"
    }
   ],
   "source": [
    "type(ints_in_list[1])"
   ]
  },
  {
   "cell_type": "code",
   "execution_count": 30,
   "id": "c8bc3ae0",
   "metadata": {},
   "outputs": [],
   "source": [
    "#now the items that the user inputs are ints"
   ]
  },
  {
   "cell_type": "code",
   "execution_count": 38,
   "id": "5c972134",
   "metadata": {
    "scrolled": true
   },
   "outputs": [
    {
     "ename": "SyntaxError",
     "evalue": "'return' outside function (1203493993.py, line 5)",
     "output_type": "error",
     "traceback": [
      "\u001b[1;36m  Input \u001b[1;32mIn [38]\u001b[1;36m\u001b[0m\n\u001b[1;33m    return\"You have won the lotto\"\u001b[0m\n\u001b[1;37m    ^\u001b[0m\n\u001b[1;31mSyntaxError\u001b[0m\u001b[1;31m:\u001b[0m 'return' outside function\n"
     ]
    }
   ],
   "source": [
    "ints_in_list.sort()\n",
    "lotto_numbers.sort()\n",
    "\n",
    "if (ints_in_list==lotto_numbers):\n",
    "    return\"You have won the lotto\"\n",
    "else:\n",
    "    return \"You have not won the lotto\""
   ]
  },
  {
   "cell_type": "code",
   "execution_count": 39,
   "id": "f00ed666",
   "metadata": {},
   "outputs": [
    {
     "ename": "SyntaxError",
     "evalue": "invalid syntax (4250795076.py, line 5)",
     "output_type": "error",
     "traceback": [
      "\u001b[1;36m  Input \u001b[1;32mIn [39]\u001b[1;36m\u001b[0m\n\u001b[1;33m    print\"You have won the lotto\"\u001b[0m\n\u001b[1;37m         ^\u001b[0m\n\u001b[1;31mSyntaxError\u001b[0m\u001b[1;31m:\u001b[0m invalid syntax\n"
     ]
    }
   ],
   "source": [
    "ints_in_list.sort()\n",
    "lotto_numbers.sort()\n",
    "\n",
    "if (ints_in_list==lotto_numbers):\n",
    "    print\"You have won the lotto\"\n",
    "else:\n",
    "    print \"You have not won the lotto\""
   ]
  },
  {
   "cell_type": "code",
   "execution_count": 40,
   "id": "6f7cc55a",
   "metadata": {},
   "outputs": [
    {
     "ename": "SyntaxError",
     "evalue": "Missing parentheses in call to 'print'. Did you mean print(\"You have won the lotto\")? (3519707962.py, line 5)",
     "output_type": "error",
     "traceback": [
      "\u001b[1;36m  Input \u001b[1;32mIn [40]\u001b[1;36m\u001b[0m\n\u001b[1;33m    print \"You have won the lotto\"\u001b[0m\n\u001b[1;37m          ^\u001b[0m\n\u001b[1;31mSyntaxError\u001b[0m\u001b[1;31m:\u001b[0m Missing parentheses in call to 'print'. Did you mean print(\"You have won the lotto\")?\n"
     ]
    }
   ],
   "source": [
    "ints_in_list.sort()\n",
    "lotto_numbers.sort()\n",
    "\n",
    "if (ints_in_list==lotto_numbers):\n",
    "    print \"You have won the lotto\"\n",
    "else:\n",
    "    print \"You have not won the lotto\""
   ]
  },
  {
   "cell_type": "code",
   "execution_count": 41,
   "id": "835e5330",
   "metadata": {},
   "outputs": [
    {
     "name": "stdout",
     "output_type": "stream",
     "text": [
      "You have not won the lotto\n"
     ]
    }
   ],
   "source": [
    "ints_in_list.sort()\n",
    "lotto_numbers.sort()\n",
    "\n",
    "if (ints_in_list==lotto_numbers):\n",
    "    print (\"You have won the lotto\")\n",
    "else:\n",
    "    print (\"You have not won the lotto\")"
   ]
  },
  {
   "cell_type": "code",
   "execution_count": 42,
   "id": "49426b87",
   "metadata": {},
   "outputs": [
    {
     "ename": "NameError",
     "evalue": "name 'test_one' is not defined",
     "output_type": "error",
     "traceback": [
      "\u001b[1;31m---------------------------------------------------------------------------\u001b[0m",
      "\u001b[1;31mNameError\u001b[0m                                 Traceback (most recent call last)",
      "Input \u001b[1;32mIn [42]\u001b[0m, in \u001b[0;36m<cell line: 3>\u001b[1;34m()\u001b[0m\n\u001b[0;32m      1\u001b[0m \u001b[38;5;66;03m#testing method can be true\u001b[39;00m\n\u001b[1;32m----> 3\u001b[0m \u001b[43mtest_one\u001b[49m[\u001b[38;5;241m1\u001b[39m,\u001b[38;5;241m2\u001b[39m,\u001b[38;5;241m3\u001b[39m]\n\u001b[0;32m      4\u001b[0m test_two[\u001b[38;5;241m1\u001b[39m,\u001b[38;5;241m2\u001b[39m,\u001b[38;5;241m3\u001b[39m]\n\u001b[0;32m      6\u001b[0m test_one\u001b[38;5;241m.\u001b[39msort()\n",
      "\u001b[1;31mNameError\u001b[0m: name 'test_one' is not defined"
     ]
    }
   ],
   "source": [
    "#testing method can be true\n",
    "\n",
    "test_one[1,2,3]\n",
    "test_two[1,2,3]\n",
    "\n",
    "test_one.sort()\n",
    "test_two.sort()\n",
    "\n",
    "if (test_one == test_two):\n",
    "    print (\"You have won the lotto\")\n",
    "else:\n",
    "    print (\"You have not won the lotto\")"
   ]
  },
  {
   "cell_type": "code",
   "execution_count": 43,
   "id": "d1daf13b",
   "metadata": {},
   "outputs": [
    {
     "name": "stdout",
     "output_type": "stream",
     "text": [
      "You have won the lotto\n"
     ]
    }
   ],
   "source": [
    "#testing method can be true\n",
    "\n",
    "test_one = [1,2,3]\n",
    "test_two = [1,2,3]\n",
    "\n",
    "test_one.sort()\n",
    "test_two.sort()\n",
    "\n",
    "if (test_one == test_two):\n",
    "    print (\"You have won the lotto\")\n",
    "else:\n",
    "    print (\"You have not won the lotto\")"
   ]
  },
  {
   "cell_type": "code",
   "execution_count": 44,
   "id": "968ebbb2",
   "metadata": {},
   "outputs": [
    {
     "name": "stdout",
     "output_type": "stream",
     "text": [
      "You have not won the lotto\n"
     ]
    }
   ],
   "source": [
    "test_one = [1,2,3]\n",
    "test_two = [1,2,5]\n",
    "\n",
    "test_one.sort()\n",
    "test_two.sort()\n",
    "\n",
    "if (test_one == test_two):\n",
    "    print (\"You have won the lotto\")\n",
    "else:\n",
    "    print (\"You have not won the lotto\")"
   ]
  },
  {
   "cell_type": "code",
   "execution_count": 48,
   "id": "666af556",
   "metadata": {},
   "outputs": [],
   "source": [
    "# now to make a function that hopefully works\n",
    "\n",
    "def lotto_system():\n",
    "    lotto_numbers = [random.randint(0, 100) for i in range(6)]\n",
    "\n",
    "    players_numbers = input(\"Please enter the six numbers you wish to check, leaving a space between the numbers: \")\n",
    "    players_numbers = players_numbers.split(\" \")\n",
    "    players_numbers_ints = []\n",
    "    for element in players_numbers:\n",
    "        players_numbers_ints.append(int(element))\n",
    "    # print(players_numbers_ints)\n",
    "    players_numbers_ints.sort()\n",
    "    lotto_numbers.sort()\n",
    "\n",
    "    if (players_numbers_ints == lotto_numbers):\n",
    "        return \"You have won the lotto\"\n",
    "    else:\n",
    "        return \"You have not won the lotto\""
   ]
  },
  {
   "cell_type": "code",
   "execution_count": 49,
   "id": "c25e86c9",
   "metadata": {},
   "outputs": [
    {
     "data": {
      "text/plain": [
       "<function __main__.lotto_system()>"
      ]
     },
     "execution_count": 49,
     "metadata": {},
     "output_type": "execute_result"
    }
   ],
   "source": [
    "lotto_system"
   ]
  },
  {
   "cell_type": "code",
   "execution_count": 50,
   "id": "847f5f92",
   "metadata": {},
   "outputs": [
    {
     "name": "stdout",
     "output_type": "stream",
     "text": [
      "Please enter the six numbers you wish to check, leaving a space between the numbers: 1 2 3 4 5 6\n"
     ]
    },
    {
     "data": {
      "text/plain": [
       "'You have not won the lotto'"
      ]
     },
     "execution_count": 50,
     "metadata": {},
     "output_type": "execute_result"
    }
   ],
   "source": [
    "lotto_system()"
   ]
  },
  {
   "cell_type": "code",
   "execution_count": null,
   "id": "5ff1ffe3",
   "metadata": {},
   "outputs": [],
   "source": []
  }
 ],
 "metadata": {
  "kernelspec": {
   "display_name": "Python 3 (ipykernel)",
   "language": "python",
   "name": "python3"
  },
  "language_info": {
   "codemirror_mode": {
    "name": "ipython",
    "version": 3
   },
   "file_extension": ".py",
   "mimetype": "text/x-python",
   "name": "python",
   "nbconvert_exporter": "python",
   "pygments_lexer": "ipython3",
   "version": "3.9.12"
  }
 },
 "nbformat": 4,
 "nbformat_minor": 5
}

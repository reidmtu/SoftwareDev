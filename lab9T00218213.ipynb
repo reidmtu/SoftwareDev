{
 "cells": [
  {
   "cell_type": "code",
   "execution_count": null,
   "id": "5048f16c",
   "metadata": {},
   "outputs": [],
   "source": [
    "#Pseudo Code for Caesar Cipher\n",
    "\n",
    "#1.Input : String plaintext\n",
    "#2.Input : An integer between 0 and 25 representing the right shift of the character or, \n",
    "#  an integer between -25 and -1 representing the left shift of the characters. \n",
    "#3.Traverse each character in the plaintext one at a time\n",
    "#4.Transform the given character depending on encryption or decryption.\n",
    "#5.Print the ciphertext.\n"
   ]
  },
  {
   "cell_type": "code",
   "execution_count": 8,
   "id": "818090bd",
   "metadata": {},
   "outputs": [],
   "source": [
    "def caesar_cipher():\n",
    "    text = input(\"Please enter some text: \")  # takes users input as a string\n",
    "    number = input(\"Please enter a number between -25 and 25: \")  # -25-1 will be moved left, 0 25 will be moved right\n",
    "    number = int(number)  # input is converted to int\n",
    "    result = \"\"  # when the input is in ciphertext\n",
    "\n",
    "    for i in range(len(text)):\n",
    "        char = text[i]  # goes through the inputted string\n",
    "        if char.isupper():  # for upper letters\n",
    "            result += chr((ord(char) + number - 65) % 26 + 65)\n",
    "        else:  # for lower case letters\n",
    "            result += chr((ord(char) + number - 97) % 26 + 97)\n",
    "    return result\n",
    "# caesar_cipher()\n"
   ]
  },
  {
   "cell_type": "code",
   "execution_count": 9,
   "id": "b9930556",
   "metadata": {},
   "outputs": [
    {
     "name": "stdout",
     "output_type": "stream",
     "text": [
      "Please enter some text: test\n",
      "Please enter a number between -25 and 25: 2\n"
     ]
    },
    {
     "data": {
      "text/plain": [
       "'vguv'"
      ]
     },
     "execution_count": 9,
     "metadata": {},
     "output_type": "execute_result"
    }
   ],
   "source": [
    "caesar_cipher()"
   ]
  },
  {
   "cell_type": "code",
   "execution_count": 10,
   "id": "5b6a2ecb",
   "metadata": {},
   "outputs": [
    {
     "name": "stdout",
     "output_type": "stream",
     "text": [
      "Please enter some text: abcd\n",
      "Please enter a number between -25 and 25: 25\n"
     ]
    },
    {
     "data": {
      "text/plain": [
       "'zabc'"
      ]
     },
     "execution_count": 10,
     "metadata": {},
     "output_type": "execute_result"
    }
   ],
   "source": [
    "caesar_cipher()"
   ]
  },
  {
   "cell_type": "code",
   "execution_count": 11,
   "id": "94b538ab",
   "metadata": {},
   "outputs": [
    {
     "name": "stdout",
     "output_type": "stream",
     "text": [
      "Please enter some text: abcd\n",
      "Please enter a number between -25 and 25: -25\n"
     ]
    },
    {
     "data": {
      "text/plain": [
       "'bcde'"
      ]
     },
     "execution_count": 11,
     "metadata": {},
     "output_type": "execute_result"
    }
   ],
   "source": [
    "caesar_cipher()"
   ]
  },
  {
   "cell_type": "code",
   "execution_count": 6,
   "id": "5ca2a21f",
   "metadata": {},
   "outputs": [
    {
     "name": "stdout",
     "output_type": "stream",
     "text": [
      "Please enter some text: Paul Reid\n",
      "Please enter a number between -25 and 25: 2\n"
     ]
    },
    {
     "data": {
      "text/plain": [
       "'RcwnpTgkf'"
      ]
     },
     "execution_count": 6,
     "metadata": {},
     "output_type": "execute_result"
    }
   ],
   "source": [
    "caesar_cipher()"
   ]
  },
  {
   "cell_type": "code",
   "execution_count": null,
   "id": "b93b3cfa",
   "metadata": {},
   "outputs": [],
   "source": []
  }
 ],
 "metadata": {
  "kernelspec": {
   "display_name": "Python 3 (ipykernel)",
   "language": "python",
   "name": "python3"
  },
  "language_info": {
   "codemirror_mode": {
    "name": "ipython",
    "version": 3
   },
   "file_extension": ".py",
   "mimetype": "text/x-python",
   "name": "python",
   "nbconvert_exporter": "python",
   "pygments_lexer": "ipython3",
   "version": "3.9.12"
  }
 },
 "nbformat": 4,
 "nbformat_minor": 5
}

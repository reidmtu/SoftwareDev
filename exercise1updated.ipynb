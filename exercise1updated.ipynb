{
 "cells": [
  {
   "cell_type": "code",
   "execution_count": null,
   "id": "8abc8074",
   "metadata": {},
   "outputs": [],
   "source": [
    "#exercise 1"
   ]
  },
  {
   "cell_type": "code",
   "execution_count": null,
   "id": "339f71f5",
   "metadata": {},
   "outputs": [],
   "source": [
    "#Make a fizzbuzz-like game so that you can use any two prime numbers instead of the\n",
    "# hard-coded 3 and 5 here and say any words you want for any number\n",
    "#e.g.\n",
    "#11 - zubba\n",
    "#13 - pfft"
   ]
  },
  {
   "cell_type": "code",
   "execution_count": null,
   "id": "1af3cb6a",
   "metadata": {},
   "outputs": [],
   "source": [
    "#so there will need to be five inputs to take the two numbers and the three alternative outcomes to the numbers\n",
    "#the origional (using 3 and 5) is : 1, 2, fizz, 4, buzz, fizz, 7, 8, fizz, buzz, 11, fizz, 13, 14, fizzbuzz, 16, etc\n",
    "#fizz is said where a number is divisable by 3, buzz is where the number is divisable by 5 and fizzbuzz is said where the number\n",
    "#is divisable by both 3 and 5, otherewise the number is expected\n",
    "\n",
    "#the numbers taken from user input will have to be converted to a int before returning the final output for a check \n",
    "#to work correctly"
   ]
  },
  {
   "cell_type": "code",
   "execution_count": 11,
   "id": "9f952f64",
   "metadata": {},
   "outputs": [],
   "source": [
    "#so the current def looks like below, the numbers \"3\" and \"5\" have to be changed to variables, as do the returns \"fizz buzz\",\n",
    "#\"buzz\" and \"fizz\"\n",
    "\n",
    "#if num % 3 == 0 and num % 5 == 0:\n",
    "     #   return \"fizz buzz\"\n",
    "    #elif num % 5 == 0:\n",
    "     #   return \"buzz\"\n",
    "    #elif num % 3 == 0:\n",
    "     #   return \"fizz\"\n",
    "    #return num\n",
    "\n",
    "# so to do this i will try and take user input and convert the two diseried numbers to an int and the 3 outcomes  "
   ]
  },
  {
   "cell_type": "code",
   "execution_count": 12,
   "id": "58155096",
   "metadata": {},
   "outputs": [
    {
     "name": "stdout",
     "output_type": "stream",
     "text": [
      "please enter a namePaul\n"
     ]
    }
   ],
   "source": [
    "testing_input = input(\"please enter a name\")"
   ]
  },
  {
   "cell_type": "code",
   "execution_count": 17,
   "id": "f3151ff8",
   "metadata": {},
   "outputs": [
    {
     "data": {
      "text/plain": [
       "str"
      ]
     },
     "execution_count": 17,
     "metadata": {},
     "output_type": "execute_result"
    }
   ],
   "source": [
    "type(testing_input) #is a string"
   ]
  },
  {
   "cell_type": "code",
   "execution_count": 18,
   "id": "033d77de",
   "metadata": {},
   "outputs": [
    {
     "name": "stdout",
     "output_type": "stream",
     "text": [
      "please enter a number: 8\n"
     ]
    }
   ],
   "source": [
    "testing_number = input(\"please enter a number: \")"
   ]
  },
  {
   "cell_type": "code",
   "execution_count": 19,
   "id": "a8ecb75c",
   "metadata": {},
   "outputs": [
    {
     "data": {
      "text/plain": [
       "str"
      ]
     },
     "execution_count": 19,
     "metadata": {},
     "output_type": "execute_result"
    }
   ],
   "source": [
    "type(testing_number) #will still be a string"
   ]
  },
  {
   "cell_type": "code",
   "execution_count": 20,
   "id": "55cc83cd",
   "metadata": {},
   "outputs": [],
   "source": [
    "testing_number = int (testing_number)"
   ]
  },
  {
   "cell_type": "code",
   "execution_count": 21,
   "id": "2da1f374",
   "metadata": {},
   "outputs": [
    {
     "data": {
      "text/plain": [
       "int"
      ]
     },
     "execution_count": 21,
     "metadata": {},
     "output_type": "execute_result"
    }
   ],
   "source": [
    "type(testing_number) #will now be an int"
   ]
  },
  {
   "cell_type": "code",
   "execution_count": 22,
   "id": "e9a48aac",
   "metadata": {},
   "outputs": [
    {
     "data": {
      "text/plain": [
       "8"
      ]
     },
     "execution_count": 22,
     "metadata": {},
     "output_type": "execute_result"
    }
   ],
   "source": [
    "testing_number"
   ]
  },
  {
   "cell_type": "code",
   "execution_count": 23,
   "id": "b1789375",
   "metadata": {},
   "outputs": [
    {
     "name": "stdout",
     "output_type": "stream",
     "text": [
      "Please enter the first number you wish to use: 1\n",
      "Please enter the second number you wish to use: 5\n",
      "Please enter the word you want to appear instead of the first numberQatar\n",
      "Please enter the word you want to appear instead of the second numberEcuador\n",
      "Please enter the word you want to appear when both numbers are divisablegoal\n"
     ]
    }
   ],
   "source": [
    "first_number = input(\"Please enter the first number you wish to use: \")\n",
    "first_number = int(first_number)\n",
    "second_number = input(\"Please enter the second number you wish to use: \")\n",
    "second_number = int(second_number)\n",
    "first_response = input(\"Please enter the word you want to appear instead of the first number\")\n",
    "second_response = input(\"Please enter the word you want to appear instead of the second number\")\n",
    "final_response = input(\"Please enter the word you want to appear when both numbers are divisable\")"
   ]
  },
  {
   "cell_type": "code",
   "execution_count": 24,
   "id": "fb71aa3a",
   "metadata": {},
   "outputs": [
    {
     "name": "stdout",
     "output_type": "stream",
     "text": [
      "Please enter the first number you wish to use: 5\n",
      "Please enter the second number you wish to use: 6\n",
      "Please enter the word you want to appear instead of the first number: world\n",
      "Please enter the word you want to appear instead of the second number: cup\n",
      "Please enter the word you want to appear when both numbers are divisable: World Cup\n"
     ]
    }
   ],
   "source": [
    "first_number = input(\"Please enter the first number you wish to use: \")\n",
    "first_number = int(first_number)\n",
    "second_number = input(\"Please enter the second number you wish to use: \")\n",
    "second_number = int(second_number)\n",
    "first_response = input(\"Please enter the word you want to appear instead of the first number: \")\n",
    "second_response = input(\"Please enter the word you want to appear instead of the second number: \")\n",
    "final_response = input(\"Please enter the word you want to appear when both numbers are divisable: \")"
   ]
  },
  {
   "cell_type": "code",
   "execution_count": 26,
   "id": "eb8c1c98",
   "metadata": {},
   "outputs": [
    {
     "ename": "IndentationError",
     "evalue": "unindent does not match any outer indentation level (<tokenize>, line 11)",
     "output_type": "error",
     "traceback": [
      "\u001b[1;36m  File \u001b[1;32m<tokenize>:11\u001b[1;36m\u001b[0m\n\u001b[1;33m    elif num % second_number == 0:\u001b[0m\n\u001b[1;37m    ^\u001b[0m\n\u001b[1;31mIndentationError\u001b[0m\u001b[1;31m:\u001b[0m unindent does not match any outer indentation level\n"
     ]
    }
   ],
   "source": [
    "first_number = input(\"Please enter the first number you wish to use: \")\n",
    "first_number = int(first_number)\n",
    "second_number = input(\"Please enter the second number you wish to use: \")\n",
    "second_number = int(second_number)\n",
    "first_response = input(\"Please enter the word you want to appear instead of the first number: \")\n",
    "second_response = input(\"Please enter the word you want to appear instead of the second number: \")\n",
    "final_response = input(\"Please enter the word you want to appear when both numbers are divisable: \")\n",
    "\n",
    "if num % first_number == 0 and num % second_number == 0:\n",
    "        return final_response\n",
    "    elif num % second_number == 0:\n",
    "        return second_response\n",
    "    elif num % first_number == 0:\n",
    "        return first_response\n",
    "    return num"
   ]
  },
  {
   "cell_type": "code",
   "execution_count": 30,
   "id": "1c05d9f3",
   "metadata": {},
   "outputs": [
    {
     "name": "stdout",
     "output_type": "stream",
     "text": [
      "Please enter the first number you wish to use: 2\n",
      "Please enter the second number you wish to use: 3\n",
      "Please enter the word you want to appear instead of the first number: World\n",
      "Please enter the word you want to appear instead of the second number: Cup\n",
      "Please enter the word you want to appear when both numbers are divisable: World Cup\n"
     ]
    },
    {
     "ename": "SyntaxError",
     "evalue": "'return' outside function (491771173.py, line 10)",
     "output_type": "error",
     "traceback": [
      "\u001b[1;36m  Input \u001b[1;32mIn [30]\u001b[1;36m\u001b[0m\n\u001b[1;33m    return final_response\u001b[0m\n\u001b[1;37m    ^\u001b[0m\n\u001b[1;31mSyntaxError\u001b[0m\u001b[1;31m:\u001b[0m 'return' outside function\n"
     ]
    }
   ],
   "source": [
    "first_number = input(\"Please enter the first number you wish to use: \")\n",
    "first_number = int(first_number)\n",
    "second_number = input(\"Please enter the second number you wish to use: \")\n",
    "second_number = int(second_number)\n",
    "first_response = input(\"Please enter the word you want to appear instead of the first number: \")\n",
    "second_response = input(\"Please enter the word you want to appear instead of the second number: \")\n",
    "final_response = input(\"Please enter the word you want to appear when both numbers are divisable: \")\n",
    "\n",
    "if num % first_number == 0 and num % second_number == 0:\n",
    "    return final_response\n",
    "elif num % second_number == 0:\n",
    "    return second_response\n",
    "elif num % first_number == 0:\n",
    "    return first_response\n",
    "return num"
   ]
  },
  {
   "cell_type": "code",
   "execution_count": 32,
   "id": "72b37c2e",
   "metadata": {},
   "outputs": [
    {
     "ename": "SyntaxError",
     "evalue": "'return' outside function (3048251637.py, line 11)",
     "output_type": "error",
     "traceback": [
      "\u001b[1;36m  Input \u001b[1;32mIn [32]\u001b[1;36m\u001b[0m\n\u001b[1;33m    return final_response\u001b[0m\n\u001b[1;37m    ^\u001b[0m\n\u001b[1;31mSyntaxError\u001b[0m\u001b[1;31m:\u001b[0m 'return' outside function\n"
     ]
    }
   ],
   "source": [
    "for num in range(1, 16):\n",
    "    first_number = input(\"Please enter the first number you wish to use: \")\n",
    "    first_number = int(first_number)\n",
    "    second_number = input(\"Please enter the second number you wish to use: \")\n",
    "    second_number = int(second_number)\n",
    "    first_response = input(\"Please enter the word you want to appear instead of the first number: \")\n",
    "    second_response = input(\"Please enter the word you want to appear instead of the second number: \")\n",
    "    final_response = input(\"Please enter the word you want to appear when both numbers are divisable: \")\n",
    "\n",
    "    if num % first_number == 0 and num % second_number == 0:\n",
    "        return final_response\n",
    "    elif num % second_number == 0:\n",
    "        return second_response\n",
    "    elif num % first_number == 0:\n",
    "        return first_response\n",
    "    return num"
   ]
  },
  {
   "cell_type": "code",
   "execution_count": 33,
   "id": "ca3b84bb",
   "metadata": {},
   "outputs": [
    {
     "ename": "SyntaxError",
     "evalue": "'return' outside function (462753549.py, line 11)",
     "output_type": "error",
     "traceback": [
      "\u001b[1;36m  Input \u001b[1;32mIn [33]\u001b[1;36m\u001b[0m\n\u001b[1;33m    return \"final_response\"\u001b[0m\n\u001b[1;37m    ^\u001b[0m\n\u001b[1;31mSyntaxError\u001b[0m\u001b[1;31m:\u001b[0m 'return' outside function\n"
     ]
    }
   ],
   "source": [
    "for num in range(1, 16):\n",
    "    first_number = input(\"Please enter the first number you wish to use: \")\n",
    "    first_number = int(first_number)\n",
    "    second_number = input(\"Please enter the second number you wish to use: \")\n",
    "    second_number = int(second_number)\n",
    "    first_response = input(\"Please enter the word you want to appear instead of the first number: \")\n",
    "    second_response = input(\"Please enter the word you want to appear instead of the second number: \")\n",
    "    final_response = input(\"Please enter the word you want to appear when both numbers are divisable: \")\n",
    "\n",
    "    if num % first_number == 0 and num % second_number == 0:\n",
    "        return \"final_response\"\n",
    "    elif num % second_number == 0:\n",
    "        return \"second_response\"\n",
    "    elif num % first_number == 0:\n",
    "        return \"first_response\"\n",
    "    return num"
   ]
  },
  {
   "cell_type": "code",
   "execution_count": 8,
   "id": "1d89679b",
   "metadata": {},
   "outputs": [
    {
     "ename": "NameError",
     "evalue": "name 'num' is not defined",
     "output_type": "error",
     "traceback": [
      "\u001b[1;31m---------------------------------------------------------------------------\u001b[0m",
      "\u001b[1;31mNameError\u001b[0m                                 Traceback (most recent call last)",
      "Input \u001b[1;32mIn [8]\u001b[0m, in \u001b[0;36m<cell line: 1>\u001b[1;34m()\u001b[0m\n\u001b[1;32m----> 1\u001b[0m \u001b[38;5;28;01mif\u001b[39;00m \u001b[43mnum\u001b[49m \u001b[38;5;241m%\u001b[39m \u001b[38;5;241m3\u001b[39m \u001b[38;5;241m==\u001b[39m \u001b[38;5;241m0\u001b[39m \u001b[38;5;129;01mand\u001b[39;00m num \u001b[38;5;241m%\u001b[39m \u001b[38;5;241m5\u001b[39m \u001b[38;5;241m==\u001b[39m \u001b[38;5;241m0\u001b[39m:\n\u001b[0;32m      2\u001b[0m     num \u001b[38;5;241m=\u001b[39m \u001b[38;5;124m\"\u001b[39m\u001b[38;5;124mfizz buzz\u001b[39m\u001b[38;5;124m\"\u001b[39m\n\u001b[0;32m      3\u001b[0m \u001b[38;5;28;01melif\u001b[39;00m num \u001b[38;5;241m%\u001b[39m \u001b[38;5;241m5\u001b[39m \u001b[38;5;241m==\u001b[39m \u001b[38;5;241m0\u001b[39m:\n",
      "\u001b[1;31mNameError\u001b[0m: name 'num' is not defined"
     ]
    }
   ],
   "source": [
    "if num % 3 == 0 and num % 5 == 0:\n",
    "    num = \"fizz buzz\"\n",
    "elif num % 5 == 0:\n",
    "    num = \"buzz\"    \n",
    "elif num % 3 == 0:\n",
    "    num = \"fizz\"\n",
    "print(num)"
   ]
  },
  {
   "cell_type": "code",
   "execution_count": 10,
   "id": "fd849662",
   "metadata": {},
   "outputs": [
    {
     "name": "stdout",
     "output_type": "stream",
     "text": [
      "fizz\n"
     ]
    }
   ],
   "source": [
    " #forgot to assign a value to num\n",
    "num = 9 \n",
    "\n",
    "if num % 3 == 0 and num % 5 == 0:\n",
    "    num = \"fizz buzz\"\n",
    "elif num % 5 == 0:\n",
    "    num = \"buzz\"    \n",
    "elif num % 3 == 0:\n",
    "    num = \"fizz\"\n",
    "print(num)"
   ]
  },
  {
   "cell_type": "code",
   "execution_count": 12,
   "id": "ab2299ce",
   "metadata": {},
   "outputs": [
    {
     "name": "stdout",
     "output_type": "stream",
     "text": [
      "fizz buzz\n"
     ]
    }
   ],
   "source": [
    "num = 15 \n",
    "\n",
    "if num % 3 == 0 and num % 5 == 0:\n",
    "    num = \"fizz buzz\"\n",
    "elif num % 5 == 0:\n",
    "    num = \"buzz\"    \n",
    "elif num % 3 == 0:\n",
    "    num = \"fizz\"\n",
    "print(num)"
   ]
  },
  {
   "cell_type": "code",
   "execution_count": 14,
   "id": "208aeb68",
   "metadata": {},
   "outputs": [
    {
     "name": "stdout",
     "output_type": "stream",
     "text": [
      "buzz\n"
     ]
    }
   ],
   "source": [
    "num = 10 \n",
    "\n",
    "if num % 3 == 0 and num % 5 == 0:\n",
    "    num = \"fizz buzz\"\n",
    "elif num % 5 == 0:\n",
    "    num = \"buzz\"    \n",
    "elif num % 3 == 0:\n",
    "    num = \"fizz\"\n",
    "print(num)"
   ]
  },
  {
   "cell_type": "code",
   "execution_count": 17,
   "id": "570d9e9a",
   "metadata": {},
   "outputs": [
    {
     "name": "stdout",
     "output_type": "stream",
     "text": [
      "fizz\n"
     ]
    }
   ],
   "source": [
    "num = 6 \n",
    "\n",
    "if num % 3 == 0 and num % 5 == 0:\n",
    "    num = \"fizz buzz\"\n",
    "elif num % 5 == 0:\n",
    "    num = \"buzz\"    \n",
    "elif num % 3 == 0:\n",
    "    num = \"fizz\"\n",
    "print(num)"
   ]
  },
  {
   "cell_type": "code",
   "execution_count": 18,
   "id": "92e83aaa",
   "metadata": {},
   "outputs": [
    {
     "name": "stdout",
     "output_type": "stream",
     "text": [
      "7\n"
     ]
    }
   ],
   "source": [
    "num = 7 \n",
    "\n",
    "if num % 3 == 0 and num % 5 == 0:\n",
    "    num = \"fizz buzz\"\n",
    "elif num % 5 == 0:\n",
    "    num = \"buzz\"    \n",
    "elif num % 3 == 0:\n",
    "    num = \"fizz\"\n",
    "print(num)"
   ]
  },
  {
   "cell_type": "code",
   "execution_count": 6,
   "id": "98c7030f",
   "metadata": {},
   "outputs": [
    {
     "ename": "NameError",
     "evalue": "name 'num' is not defined",
     "output_type": "error",
     "traceback": [
      "\u001b[1;31m---------------------------------------------------------------------------\u001b[0m",
      "\u001b[1;31mNameError\u001b[0m                                 Traceback (most recent call last)",
      "Input \u001b[1;32mIn [6]\u001b[0m, in \u001b[0;36m<cell line: 1>\u001b[1;34m()\u001b[0m\n\u001b[1;32m----> 1\u001b[0m \u001b[43mnum\u001b[49m\n",
      "\u001b[1;31mNameError\u001b[0m: name 'num' is not defined"
     ]
    }
   ],
   "source": [
    "num"
   ]
  },
  {
   "cell_type": "code",
   "execution_count": 7,
   "id": "733928a5",
   "metadata": {},
   "outputs": [
    {
     "ename": "IndentationError",
     "evalue": "unexpected indent (2223635319.py, line 10)",
     "output_type": "error",
     "traceback": [
      "\u001b[1;36m  Input \u001b[1;32mIn [7]\u001b[1;36m\u001b[0m\n\u001b[1;33m    if num % first_number == 0 and num % second_number == 0:\u001b[0m\n\u001b[1;37m    ^\u001b[0m\n\u001b[1;31mIndentationError\u001b[0m\u001b[1;31m:\u001b[0m unexpected indent\n"
     ]
    }
   ],
   "source": [
    "for num in range(1, 16):\n",
    "    first_number = input(\"Please enter the first number you wish to use: \")\n",
    "    first_number = int(first_number)\n",
    "    second_number = input(\"Please enter the second number you wish to use: \")\n",
    "    second_number = int(second_number)\n",
    "    first_response = input(\"Please enter the word you want to appear instead of the first number: \")\n",
    "    second_response = input(\"Please enter the word you want to appear instead of the second number: \")\n",
    "    final_response = input(\"Please enter the word you want to appear when both numbers are divisable: \")\n",
    "\n",
    "        if num % first_number == 0 and num % second_number == 0:\n",
    "            return \"final_response\"\n",
    "        elif num % second_number == 0:\n",
    "            return \"second_response\"\n",
    "        elif num % first_number == 0:\n",
    "            return \"first_response\"\n",
    "        return num"
   ]
  },
  {
   "cell_type": "code",
   "execution_count": null,
   "id": "77537b88",
   "metadata": {},
   "outputs": [],
   "source": []
  },
  {
   "cell_type": "code",
   "execution_count": 37,
   "id": "2b66a109",
   "metadata": {},
   "outputs": [
    {
     "name": "stdout",
     "output_type": "stream",
     "text": [
      "Please enter the first number you wish to use: 3\n",
      "Please enter the second number you wish to use: 5\n",
      "Please enter the word you want to appear instead of the first number: World\n",
      "Please enter the word you want to appear instead of the second number: Cup\n",
      "Please enter the word you want to appear when both numbers are dividable: World Cup\n",
      "1\n",
      "2\n",
      "World\n",
      "4\n",
      "Cup\n",
      "World\n",
      "7\n",
      "8\n",
      "World\n",
      "Cup\n",
      "11\n",
      "World\n",
      "13\n",
      "14\n",
      "World Cup\n"
     ]
    }
   ],
   "source": [
    "#after running the code in inteliJ, i ended up with the following\n",
    "\n",
    "\n",
    "first_number = input(\"Please enter the first number you wish to use: \")\n",
    "first_number = int(first_number)\n",
    "second_number = input(\"Please enter the second number you wish to use: \")\n",
    "second_number = int(second_number)\n",
    "first_response = input(\"Please enter the word you want to appear instead of the first number: \")\n",
    "second_response = input(\"Please enter the word you want to appear instead of the second number: \")\n",
    "final_response = input(\"Please enter the word you want to appear when both numbers are dividable: \")\n",
    "\n",
    "for num in range(1, 16):\n",
    "    if num % first_number == 0 and num % second_number == 0:\n",
    "        num = final_response\n",
    "    elif num % second_number == 0:\n",
    "        num = second_response\n",
    "    elif num % first_number == 0:\n",
    "        num = first_response\n",
    "    print(num)\n"
   ]
  },
  {
   "cell_type": "code",
   "execution_count": 38,
   "id": "a9ca2839",
   "metadata": {},
   "outputs": [
    {
     "name": "stdout",
     "output_type": "stream",
     "text": [
      "Please enter the first number you wish to use: 7\n",
      "Please enter the second number you wish to use: 3\n",
      "Please enter the word you want to appear instead of the first number: Seven\n",
      "Please enter the word you want to appear instead of the second number: Three\n",
      "Please enter the word you want to appear when both numbers are dividable: big number\n",
      "1\n",
      "2\n",
      "Three\n",
      "4\n",
      "5\n",
      "Three\n",
      "Seven\n",
      "8\n",
      "Three\n",
      "10\n",
      "11\n",
      "Three\n",
      "13\n",
      "Seven\n",
      "Three\n",
      "16\n",
      "17\n",
      "Three\n",
      "19\n",
      "20\n",
      "big number\n",
      "22\n",
      "23\n",
      "Three\n",
      "25\n",
      "26\n",
      "Three\n",
      "Seven\n",
      "29\n",
      "Three\n",
      "31\n",
      "32\n",
      "Three\n",
      "34\n",
      "Seven\n",
      "Three\n",
      "37\n",
      "38\n",
      "Three\n",
      "40\n",
      "41\n",
      "big number\n",
      "43\n",
      "44\n",
      "Three\n",
      "46\n",
      "47\n",
      "Three\n",
      "Seven\n",
      "50\n",
      "Three\n",
      "52\n",
      "53\n",
      "Three\n",
      "55\n",
      "Seven\n",
      "Three\n",
      "58\n",
      "59\n",
      "Three\n",
      "61\n",
      "62\n",
      "big number\n",
      "64\n",
      "65\n",
      "Three\n",
      "67\n",
      "68\n",
      "Three\n",
      "Seven\n"
     ]
    }
   ],
   "source": [
    "first_number = input(\"Please enter the first number you wish to use: \")\n",
    "first_number = int(first_number)\n",
    "second_number = input(\"Please enter the second number you wish to use: \")\n",
    "second_number = int(second_number)\n",
    "first_response = input(\"Please enter the word you want to appear instead of the first number: \")\n",
    "second_response = input(\"Please enter the word you want to appear instead of the second number: \")\n",
    "final_response = input(\"Please enter the word you want to appear when both numbers are dividable: \")\n",
    "\n",
    "for num in range(1, 71):\n",
    "    if num % first_number == 0 and num % second_number == 0:\n",
    "        num = final_response\n",
    "    elif num % second_number == 0:\n",
    "        num = second_response\n",
    "    elif num % first_number == 0:\n",
    "        num = first_response\n",
    "    print(num)\n"
   ]
  },
  {
   "cell_type": "code",
   "execution_count": 39,
   "id": "5e249073",
   "metadata": {},
   "outputs": [
    {
     "ename": "SyntaxError",
     "evalue": "invalid syntax (3731193975.py, line 1)",
     "output_type": "error",
     "traceback": [
      "\u001b[1;36m  Input \u001b[1;32mIn [39]\u001b[1;36m\u001b[0m\n\u001b[1;33m    def number_response:\u001b[0m\n\u001b[1;37m                       ^\u001b[0m\n\u001b[1;31mSyntaxError\u001b[0m\u001b[1;31m:\u001b[0m invalid syntax\n"
     ]
    }
   ],
   "source": [
    "def number_response:\n",
    "    for num in range(1, 71):\n",
    "        if num % first_number == 0 and num % second_number == 0:\n",
    "            num = final_response\n",
    "        elif num % second_number == 0:\n",
    "            num = second_response\n",
    "        elif num % first_number == 0:\n",
    "            num = first_response\n",
    "        print(num)"
   ]
  },
  {
   "cell_type": "code",
   "execution_count": 21,
   "id": "c1b9b49f",
   "metadata": {},
   "outputs": [],
   "source": [
    "def number_response(num):\n",
    "    if num % first_number == 0 and num % second_number == 0:\n",
    "        num = final_response\n",
    "    elif num % second_number == 0:\n",
    "        num = second_response\n",
    "    elif num % first_number == 0:\n",
    "        num = first_response\n",
    "    print(num)"
   ]
  },
  {
   "cell_type": "code",
   "execution_count": 24,
   "id": "94721d5c",
   "metadata": {},
   "outputs": [],
   "source": [
    "first_number = 3\n",
    "second_number = 5\n",
    "final_response = \"fizzbuzz\"\n",
    "first_response = \"fizz\"\n",
    "second_response = \"buzz\"\n",
    "def number_response(num):\n",
    "    if num % first_number == 0 and num % second_number == 0:\n",
    "        num = final_response\n",
    "    elif num % second_number == 0:\n",
    "        num = second_response\n",
    "    elif num % first_number == 0:\n",
    "        num = first_response\n",
    "    print(num)"
   ]
  },
  {
   "cell_type": "code",
   "execution_count": 25,
   "id": "18b5ec65",
   "metadata": {},
   "outputs": [],
   "source": [
    "#to test a function, you must return a value\n",
    "first_number = 3\n",
    "second_number = 5\n",
    "final_response = \"fizzbuzz\"\n",
    "first_response = \"fizz\"\n",
    "second_response = \"buzz\"\n",
    "def number_response(num):\n",
    "    if num % first_number == 0 and num % second_number == 0:\n",
    "        num = final_response\n",
    "    elif num % second_number == 0:\n",
    "        num = second_response\n",
    "    elif num % first_number == 0:\n",
    "        num = first_response\n",
    "    return num"
   ]
  },
  {
   "cell_type": "code",
   "execution_count": 29,
   "id": "22b43067",
   "metadata": {},
   "outputs": [
    {
     "ename": "NameError",
     "evalue": "name 'fizz' is not defined",
     "output_type": "error",
     "traceback": [
      "\u001b[1;31m---------------------------------------------------------------------------\u001b[0m",
      "\u001b[1;31mNameError\u001b[0m                                 Traceback (most recent call last)",
      "Input \u001b[1;32mIn [29]\u001b[0m, in \u001b[0;36m<cell line: 1>\u001b[1;34m()\u001b[0m\n\u001b[1;32m----> 1\u001b[0m \u001b[38;5;28;01massert\u001b[39;00m number_response(\u001b[38;5;241m3\u001b[39m) \u001b[38;5;241m==\u001b[39m \u001b[43mfizz\u001b[49m\n",
      "\u001b[1;31mNameError\u001b[0m: name 'fizz' is not defined"
     ]
    }
   ],
   "source": [
    "assert number_response(3) == fizz"
   ]
  },
  {
   "cell_type": "code",
   "execution_count": 35,
   "id": "1ba35e82",
   "metadata": {},
   "outputs": [],
   "source": [
    "#fizz needed to be in \"\" for the assert to function\n",
    "assert number_response(3) == \"fizz\""
   ]
  },
  {
   "cell_type": "code",
   "execution_count": 33,
   "id": "9a7969e5",
   "metadata": {},
   "outputs": [],
   "source": [
    "assert number_response(5) == \"buzz\""
   ]
  },
  {
   "cell_type": "code",
   "execution_count": 34,
   "id": "d73c6f3f",
   "metadata": {},
   "outputs": [],
   "source": [
    "assert number_response(15) == \"fizzbuzz\""
   ]
  },
  {
   "cell_type": "code",
   "execution_count": 43,
   "id": "0fb8d0d3",
   "metadata": {},
   "outputs": [
    {
     "name": "stdout",
     "output_type": "stream",
     "text": [
      "Please enter the first number you wish to use: 3\n",
      "Please enter the second number you wish to use: 5\n",
      "Please enter the word you want to appear instead of the first number: fizz\n",
      "Please enter the word you want to appear instead of the second number: buzz\n",
      "Please enter the word you want to appear when both numbers are dividable: fizzbuzz\n"
     ]
    },
    {
     "ename": "TypeError",
     "evalue": "not all arguments converted during string formatting",
     "output_type": "error",
     "traceback": [
      "\u001b[1;31m---------------------------------------------------------------------------\u001b[0m",
      "\u001b[1;31mTypeError\u001b[0m                                 Traceback (most recent call last)",
      "Input \u001b[1;32mIn [43]\u001b[0m, in \u001b[0;36m<cell line: 9>\u001b[1;34m()\u001b[0m\n\u001b[0;32m      6\u001b[0m second_response \u001b[38;5;241m=\u001b[39m \u001b[38;5;28minput\u001b[39m(\u001b[38;5;124m\"\u001b[39m\u001b[38;5;124mPlease enter the word you want to appear instead of the second number: \u001b[39m\u001b[38;5;124m\"\u001b[39m)\n\u001b[0;32m      7\u001b[0m final_response \u001b[38;5;241m=\u001b[39m \u001b[38;5;28minput\u001b[39m(\u001b[38;5;124m\"\u001b[39m\u001b[38;5;124mPlease enter the word you want to appear when both numbers are dividable: \u001b[39m\u001b[38;5;124m\"\u001b[39m)\n\u001b[1;32m----> 9\u001b[0m \u001b[38;5;28;01mif\u001b[39;00m \u001b[43mnum\u001b[49m\u001b[43m \u001b[49m\u001b[38;5;241;43m%\u001b[39;49m\u001b[43m \u001b[49m\u001b[43mfirst_number\u001b[49m \u001b[38;5;241m==\u001b[39m \u001b[38;5;241m0\u001b[39m \u001b[38;5;129;01mand\u001b[39;00m num \u001b[38;5;241m%\u001b[39m second_number \u001b[38;5;241m==\u001b[39m \u001b[38;5;241m0\u001b[39m:\n\u001b[0;32m     10\u001b[0m     num \u001b[38;5;241m=\u001b[39m final_response\n\u001b[0;32m     11\u001b[0m \u001b[38;5;28;01melif\u001b[39;00m num \u001b[38;5;241m%\u001b[39m second_number \u001b[38;5;241m==\u001b[39m \u001b[38;5;241m0\u001b[39m:\n",
      "\u001b[1;31mTypeError\u001b[0m: not all arguments converted during string formatting"
     ]
    }
   ],
   "source": [
    "first_number = input(\"Please enter the first number you wish to use: \")\n",
    "first_number = int(first_number)\n",
    "second_number = input(\"Please enter the second number you wish to use: \")\n",
    "second_number = int(second_number)\n",
    "first_response = input(\"Please enter the word you want to appear instead of the first number: \")\n",
    "second_response = input(\"Please enter the word you want to appear instead of the second number: \")\n",
    "final_response = input(\"Please enter the word you want to appear when both numbers are dividable: \")\n",
    "\n",
    "if num % first_number == 0 and num % second_number == 0:\n",
    "    num = final_response\n",
    "elif num % second_number == 0:\n",
    "    num = second_response\n",
    "elif num % first_number == 0:\n",
    "    num = first_response\n",
    "print(num)"
   ]
  },
  {
   "cell_type": "code",
   "execution_count": 45,
   "id": "d7f13128",
   "metadata": {},
   "outputs": [],
   "source": [
    "def testing(num):\n",
    "    first_number = input(\"Please enter the first number you wish to use: \")\n",
    "    first_number = int(first_number)\n",
    "    second_number = input(\"Please enter the second number you wish to use: \")\n",
    "    second_number = int(second_number)\n",
    "    first_response = input(\"Please enter the word you want to appear instead of the first number: \")\n",
    "    second_response = input(\"Please enter the word you want to appear instead of the second number: \")\n",
    "    final_response = input(\"Please enter the word you want to appear when both numbers are dividable: \")\n",
    "\n",
    "    if num % first_number == 0 and num % second_number == 0:\n",
    "        num = final_response\n",
    "    elif num % second_number == 0:\n",
    "        num = second_response\n",
    "    elif num % first_number == 0:\n",
    "        num = first_response\n",
    "    print(num)"
   ]
  },
  {
   "cell_type": "code",
   "execution_count": 46,
   "id": "28b55cc6",
   "metadata": {},
   "outputs": [
    {
     "name": "stdout",
     "output_type": "stream",
     "text": [
      "Please enter the first number you wish to use: 3\n",
      "Please enter the second number you wish to use: 5\n",
      "Please enter the word you want to appear instead of the first number: fizz\n",
      "Please enter the word you want to appear instead of the second number: buzz\n",
      "Please enter the word you want to appear when both numbers are dividable: fizzbuzz\n",
      "fizz\n"
     ]
    }
   ],
   "source": [
    "testing(99)"
   ]
  },
  {
   "cell_type": "code",
   "execution_count": 47,
   "id": "f2f57062",
   "metadata": {},
   "outputs": [
    {
     "name": "stdout",
     "output_type": "stream",
     "text": [
      "Please enter the first number you wish to use: 3\n",
      "Please enter the second number you wish to use: 5\n",
      "Please enter the word you want to appear instead of the first number: fizz\n",
      "Please enter the word you want to appear instead of the second number: buzz\n",
      "Please enter the word you want to appear when both numbers are dividable: fizzbuzz\n",
      "fizzbuzz\n"
     ]
    }
   ],
   "source": [
    "testing(15)"
   ]
  },
  {
   "cell_type": "code",
   "execution_count": 48,
   "id": "7aa7992c",
   "metadata": {},
   "outputs": [
    {
     "name": "stdout",
     "output_type": "stream",
     "text": [
      "Please enter the first number you wish to use: World\n"
     ]
    },
    {
     "ename": "ValueError",
     "evalue": "invalid literal for int() with base 10: 'World'",
     "output_type": "error",
     "traceback": [
      "\u001b[1;31m---------------------------------------------------------------------------\u001b[0m",
      "\u001b[1;31mValueError\u001b[0m                                Traceback (most recent call last)",
      "Input \u001b[1;32mIn [48]\u001b[0m, in \u001b[0;36m<cell line: 1>\u001b[1;34m()\u001b[0m\n\u001b[1;32m----> 1\u001b[0m \u001b[43mtesting\u001b[49m\u001b[43m(\u001b[49m\u001b[38;5;241;43m10\u001b[39;49m\u001b[43m)\u001b[49m\n",
      "Input \u001b[1;32mIn [45]\u001b[0m, in \u001b[0;36mtesting\u001b[1;34m(num)\u001b[0m\n\u001b[0;32m      1\u001b[0m \u001b[38;5;28;01mdef\u001b[39;00m \u001b[38;5;21mtesting\u001b[39m(num):\n\u001b[0;32m      2\u001b[0m     first_number \u001b[38;5;241m=\u001b[39m \u001b[38;5;28minput\u001b[39m(\u001b[38;5;124m\"\u001b[39m\u001b[38;5;124mPlease enter the first number you wish to use: \u001b[39m\u001b[38;5;124m\"\u001b[39m)\n\u001b[1;32m----> 3\u001b[0m     first_number \u001b[38;5;241m=\u001b[39m \u001b[38;5;28;43mint\u001b[39;49m\u001b[43m(\u001b[49m\u001b[43mfirst_number\u001b[49m\u001b[43m)\u001b[49m\n\u001b[0;32m      4\u001b[0m     second_number \u001b[38;5;241m=\u001b[39m \u001b[38;5;28minput\u001b[39m(\u001b[38;5;124m\"\u001b[39m\u001b[38;5;124mPlease enter the second number you wish to use: \u001b[39m\u001b[38;5;124m\"\u001b[39m)\n\u001b[0;32m      5\u001b[0m     second_number \u001b[38;5;241m=\u001b[39m \u001b[38;5;28mint\u001b[39m(second_number)\n",
      "\u001b[1;31mValueError\u001b[0m: invalid literal for int() with base 10: 'World'"
     ]
    }
   ],
   "source": [
    "testing(10)"
   ]
  },
  {
   "cell_type": "code",
   "execution_count": 49,
   "id": "ddcdc5d3",
   "metadata": {},
   "outputs": [
    {
     "name": "stdout",
     "output_type": "stream",
     "text": [
      "Please enter the first number you wish to use: 3\n",
      "Please enter the second number you wish to use: 5\n",
      "Please enter the word you want to appear instead of the first number: World\n",
      "Please enter the word you want to appear instead of the second number: Cup\n",
      "Please enter the word you want to appear when both numbers are dividable: World Cup\n",
      "Cup\n"
     ]
    }
   ],
   "source": [
    "testing(10)"
   ]
  },
  {
   "cell_type": "code",
   "execution_count": 50,
   "id": "0a718468",
   "metadata": {},
   "outputs": [],
   "source": [
    "def game(num):\n",
    "    first_number = input(\"Please enter the first number you wish to use: \")\n",
    "    first_number = int(first_number)\n",
    "    second_number = input(\"Please enter the second number you wish to use: \")\n",
    "    second_number = int(second_number)\n",
    "    first_response = input(\"Please enter the word you want to appear instead of the first number: \")\n",
    "    second_response = input(\"Please enter the word you want to appear instead of the second number: \")\n",
    "    final_response = input(\"Please enter the word you want to appear when both numbers are dividable: \")\n",
    "\n",
    "    if num % first_number == 0 and num % second_number == 0:\n",
    "        num = final_response\n",
    "    elif num % second_number == 0:\n",
    "        num = second_response\n",
    "    elif num % first_number == 0:\n",
    "        num = first_response\n",
    "    print(num)"
   ]
  },
  {
   "cell_type": "code",
   "execution_count": 52,
   "id": "0bf08413",
   "metadata": {},
   "outputs": [],
   "source": [
    "def game(num):\n",
    "    first_number = input(\"Please enter the first number you wish to use: \") \n",
    "    first_number = int(first_number) or 3\n",
    "    second_number = input(\"Please enter the second number you wish to use: \")\n",
    "    second_number = int(second_number) or 5\n",
    "    first_response = input(\"Please enter the word you want to appear instead of the first number: \") or fizz\n",
    "    second_response = input(\"Please enter the word you want to appear instead of the second number: \")or buzz\n",
    "    final_response = input(\"Please enter the word you want to appear when both numbers are dividable: \") or fizzbuzz\n",
    "\n",
    "    if num % first_number == 0 and num % second_number == 0:\n",
    "        num = final_response\n",
    "    elif num % second_number == 0:\n",
    "        num = second_response\n",
    "    elif num % first_number == 0:\n",
    "        num = first_response\n",
    "    print(num)"
   ]
  },
  {
   "cell_type": "code",
   "execution_count": 53,
   "id": "8c862201",
   "metadata": {},
   "outputs": [
    {
     "name": "stdout",
     "output_type": "stream",
     "text": [
      "Please enter the first number you wish to use: \n"
     ]
    },
    {
     "ename": "ValueError",
     "evalue": "invalid literal for int() with base 10: ''",
     "output_type": "error",
     "traceback": [
      "\u001b[1;31m---------------------------------------------------------------------------\u001b[0m",
      "\u001b[1;31mValueError\u001b[0m                                Traceback (most recent call last)",
      "Input \u001b[1;32mIn [53]\u001b[0m, in \u001b[0;36m<cell line: 1>\u001b[1;34m()\u001b[0m\n\u001b[1;32m----> 1\u001b[0m \u001b[43mgame\u001b[49m\u001b[43m(\u001b[49m\u001b[38;5;241;43m15\u001b[39;49m\u001b[43m)\u001b[49m\n",
      "Input \u001b[1;32mIn [52]\u001b[0m, in \u001b[0;36mgame\u001b[1;34m(num)\u001b[0m\n\u001b[0;32m      1\u001b[0m \u001b[38;5;28;01mdef\u001b[39;00m \u001b[38;5;21mgame\u001b[39m(num):\n\u001b[0;32m      2\u001b[0m     first_number \u001b[38;5;241m=\u001b[39m \u001b[38;5;28minput\u001b[39m(\u001b[38;5;124m\"\u001b[39m\u001b[38;5;124mPlease enter the first number you wish to use: \u001b[39m\u001b[38;5;124m\"\u001b[39m) \n\u001b[1;32m----> 3\u001b[0m     first_number \u001b[38;5;241m=\u001b[39m \u001b[38;5;28;43mint\u001b[39;49m\u001b[43m(\u001b[49m\u001b[43mfirst_number\u001b[49m\u001b[43m)\u001b[49m \u001b[38;5;129;01mor\u001b[39;00m \u001b[38;5;241m3\u001b[39m\n\u001b[0;32m      4\u001b[0m     second_number \u001b[38;5;241m=\u001b[39m \u001b[38;5;28minput\u001b[39m(\u001b[38;5;124m\"\u001b[39m\u001b[38;5;124mPlease enter the second number you wish to use: \u001b[39m\u001b[38;5;124m\"\u001b[39m)\n\u001b[0;32m      5\u001b[0m     second_number \u001b[38;5;241m=\u001b[39m \u001b[38;5;28mint\u001b[39m(second_number) \u001b[38;5;129;01mor\u001b[39;00m \u001b[38;5;241m5\u001b[39m\n",
      "\u001b[1;31mValueError\u001b[0m: invalid literal for int() with base 10: ''"
     ]
    }
   ],
   "source": [
    "game(15)"
   ]
  },
  {
   "cell_type": "code",
   "execution_count": 54,
   "id": "7de3816c",
   "metadata": {},
   "outputs": [],
   "source": [
    "def game(num):\n",
    "    first_number = input(\"Please enter the first number you wish to use: \") or 3 \n",
    "    first_number = int(first_number) \n",
    "    second_number = input(\"Please enter the second number you wish to use: \") or 5\n",
    "    second_number = int(second_number) \n",
    "    first_response = input(\"Please enter the word you want to appear instead of the first number: \") or fizz\n",
    "    second_response = input(\"Please enter the word you want to appear instead of the second number: \")or buzz\n",
    "    final_response = input(\"Please enter the word you want to appear when both numbers are dividable: \") or fizzbuzz\n",
    "\n",
    "    if num % first_number == 0 and num % second_number == 0:\n",
    "        num = final_response\n",
    "    elif num % second_number == 0:\n",
    "        num = second_response\n",
    "    elif num % first_number == 0:\n",
    "        num = first_response\n",
    "    print(num)"
   ]
  },
  {
   "cell_type": "code",
   "execution_count": 55,
   "id": "fe822f03",
   "metadata": {},
   "outputs": [
    {
     "name": "stdout",
     "output_type": "stream",
     "text": [
      "Please enter the first number you wish to use: \n",
      "Please enter the second number you wish to use: \n",
      "Please enter the word you want to appear instead of the first number: \n"
     ]
    },
    {
     "ename": "NameError",
     "evalue": "name 'fizz' is not defined",
     "output_type": "error",
     "traceback": [
      "\u001b[1;31m---------------------------------------------------------------------------\u001b[0m",
      "\u001b[1;31mNameError\u001b[0m                                 Traceback (most recent call last)",
      "Input \u001b[1;32mIn [55]\u001b[0m, in \u001b[0;36m<cell line: 1>\u001b[1;34m()\u001b[0m\n\u001b[1;32m----> 1\u001b[0m \u001b[43mgame\u001b[49m\u001b[43m(\u001b[49m\u001b[38;5;241;43m15\u001b[39;49m\u001b[43m)\u001b[49m\n",
      "Input \u001b[1;32mIn [54]\u001b[0m, in \u001b[0;36mgame\u001b[1;34m(num)\u001b[0m\n\u001b[0;32m      4\u001b[0m second_number \u001b[38;5;241m=\u001b[39m \u001b[38;5;28minput\u001b[39m(\u001b[38;5;124m\"\u001b[39m\u001b[38;5;124mPlease enter the second number you wish to use: \u001b[39m\u001b[38;5;124m\"\u001b[39m) \u001b[38;5;129;01mor\u001b[39;00m \u001b[38;5;241m5\u001b[39m\n\u001b[0;32m      5\u001b[0m second_number \u001b[38;5;241m=\u001b[39m \u001b[38;5;28mint\u001b[39m(second_number) \n\u001b[1;32m----> 6\u001b[0m first_response \u001b[38;5;241m=\u001b[39m \u001b[38;5;28minput\u001b[39m(\u001b[38;5;124m\"\u001b[39m\u001b[38;5;124mPlease enter the word you want to appear instead of the first number: \u001b[39m\u001b[38;5;124m\"\u001b[39m) \u001b[38;5;129;01mor\u001b[39;00m \u001b[43mfizz\u001b[49m\n\u001b[0;32m      7\u001b[0m second_response \u001b[38;5;241m=\u001b[39m \u001b[38;5;28minput\u001b[39m(\u001b[38;5;124m\"\u001b[39m\u001b[38;5;124mPlease enter the word you want to appear instead of the second number: \u001b[39m\u001b[38;5;124m\"\u001b[39m)\u001b[38;5;129;01mor\u001b[39;00m buzz\n\u001b[0;32m      8\u001b[0m final_response \u001b[38;5;241m=\u001b[39m \u001b[38;5;28minput\u001b[39m(\u001b[38;5;124m\"\u001b[39m\u001b[38;5;124mPlease enter the word you want to appear when both numbers are dividable: \u001b[39m\u001b[38;5;124m\"\u001b[39m) \u001b[38;5;129;01mor\u001b[39;00m fizzbuzz\n",
      "\u001b[1;31mNameError\u001b[0m: name 'fizz' is not defined"
     ]
    }
   ],
   "source": [
    "game(15)"
   ]
  },
  {
   "cell_type": "code",
   "execution_count": 56,
   "id": "b4d22bdf",
   "metadata": {},
   "outputs": [],
   "source": [
    "def game(num):\n",
    "    first_number = input(\"Please enter the first number you wish to use: \") or 3 \n",
    "    first_number = int(first_number) \n",
    "    second_number = input(\"Please enter the second number you wish to use: \") or 5\n",
    "    second_number = int(second_number) \n",
    "    first_response = input(\"Please enter the word you want to appear instead of the first number: \") or fizz\n",
    "    first_response = str(first_response)\n",
    "    second_response = input(\"Please enter the word you want to appear instead of the second number: \")or buzz\n",
    "    second_response = str(second_response)\n",
    "    final_response = input(\"Please enter the word you want to appear when both numbers are dividable: \") or fizzbuzz\n",
    "    final_response = str(final_response)\n",
    "\n",
    "    if num % first_number == 0 and num % second_number == 0:\n",
    "        num = final_response\n",
    "    elif num % second_number == 0:\n",
    "        num = second_response\n",
    "    elif num % first_number == 0:\n",
    "        num = first_response\n",
    "    print(num)"
   ]
  },
  {
   "cell_type": "code",
   "execution_count": 57,
   "id": "1f4b9fd0",
   "metadata": {},
   "outputs": [
    {
     "name": "stdout",
     "output_type": "stream",
     "text": [
      "Please enter the first number you wish to use: \n",
      "Please enter the second number you wish to use: \n",
      "Please enter the word you want to appear instead of the first number: \n"
     ]
    },
    {
     "ename": "NameError",
     "evalue": "name 'fizz' is not defined",
     "output_type": "error",
     "traceback": [
      "\u001b[1;31m---------------------------------------------------------------------------\u001b[0m",
      "\u001b[1;31mNameError\u001b[0m                                 Traceback (most recent call last)",
      "Input \u001b[1;32mIn [57]\u001b[0m, in \u001b[0;36m<cell line: 1>\u001b[1;34m()\u001b[0m\n\u001b[1;32m----> 1\u001b[0m \u001b[43mgame\u001b[49m\u001b[43m(\u001b[49m\u001b[38;5;241;43m15\u001b[39;49m\u001b[43m)\u001b[49m\n",
      "Input \u001b[1;32mIn [56]\u001b[0m, in \u001b[0;36mgame\u001b[1;34m(num)\u001b[0m\n\u001b[0;32m      4\u001b[0m second_number \u001b[38;5;241m=\u001b[39m \u001b[38;5;28minput\u001b[39m(\u001b[38;5;124m\"\u001b[39m\u001b[38;5;124mPlease enter the second number you wish to use: \u001b[39m\u001b[38;5;124m\"\u001b[39m) \u001b[38;5;129;01mor\u001b[39;00m \u001b[38;5;241m5\u001b[39m\n\u001b[0;32m      5\u001b[0m second_number \u001b[38;5;241m=\u001b[39m \u001b[38;5;28mint\u001b[39m(second_number) \n\u001b[1;32m----> 6\u001b[0m first_response \u001b[38;5;241m=\u001b[39m \u001b[38;5;28minput\u001b[39m(\u001b[38;5;124m\"\u001b[39m\u001b[38;5;124mPlease enter the word you want to appear instead of the first number: \u001b[39m\u001b[38;5;124m\"\u001b[39m) \u001b[38;5;129;01mor\u001b[39;00m \u001b[43mfizz\u001b[49m\n\u001b[0;32m      7\u001b[0m first_response \u001b[38;5;241m=\u001b[39m \u001b[38;5;28mstr\u001b[39m(first_response)\n\u001b[0;32m      8\u001b[0m second_response \u001b[38;5;241m=\u001b[39m \u001b[38;5;28minput\u001b[39m(\u001b[38;5;124m\"\u001b[39m\u001b[38;5;124mPlease enter the word you want to appear instead of the second number: \u001b[39m\u001b[38;5;124m\"\u001b[39m)\u001b[38;5;129;01mor\u001b[39;00m buzz\n",
      "\u001b[1;31mNameError\u001b[0m: name 'fizz' is not defined"
     ]
    }
   ],
   "source": [
    "game(15)"
   ]
  },
  {
   "cell_type": "code",
   "execution_count": 58,
   "id": "ec43c784",
   "metadata": {},
   "outputs": [],
   "source": [
    "def game(num):\n",
    "    first_number = input(\"Please enter the first number you wish to use: \") or 3 \n",
    "    first_number = int(first_number) \n",
    "    second_number = input(\"Please enter the second number you wish to use: \") or 5\n",
    "    second_number = int(second_number) \n",
    "    first_response = input(\"Please enter the word you want to appear instead of the first number: \") or \"fizz\"\n",
    "    first_response = str(first_response)\n",
    "    second_response = input(\"Please enter the word you want to appear instead of the second number: \")or \"buzz\"\n",
    "    second_response = str(second_response)\n",
    "    final_response = input(\"Please enter the word you want to appear when both numbers are dividable: \") or \"fizzbuzz\"\n",
    "    final_response = str(final_response)\n",
    "\n",
    "    if num % first_number == 0 and num % second_number == 0:\n",
    "        num = final_response\n",
    "    elif num % second_number == 0:\n",
    "        num = second_response\n",
    "    elif num % first_number == 0:\n",
    "        num = first_response\n",
    "    print(num)"
   ]
  },
  {
   "cell_type": "code",
   "execution_count": 59,
   "id": "edf74798",
   "metadata": {},
   "outputs": [
    {
     "name": "stdout",
     "output_type": "stream",
     "text": [
      "Please enter the first number you wish to use: \n",
      "Please enter the second number you wish to use: \n",
      "Please enter the word you want to appear instead of the first number: \n",
      "Please enter the word you want to appear instead of the second number: \n",
      "Please enter the word you want to appear when both numbers are dividable: \n",
      "fizzbuzz\n"
     ]
    }
   ],
   "source": [
    "game(15)"
   ]
  },
  {
   "cell_type": "code",
   "execution_count": 60,
   "id": "840a760d",
   "metadata": {},
   "outputs": [],
   "source": [
    "def game(num):\n",
    "    first_number = input(\"Please enter the first number you wish to use: \") or 3 \n",
    "    first_number = int(first_number) \n",
    "    second_number = input(\"Please enter the second number you wish to use: \") or 5\n",
    "    second_number = int(second_number) \n",
    "    first_response = input(\"Please enter the word you want to appear instead of the first number: \") or \"fizz\"\n",
    "    second_response = input(\"Please enter the word you want to appear instead of the second number: \")or \"buzz\"\n",
    "    final_response = input(\"Please enter the word you want to appear when both numbers are dividable: \") or \"fizzbuzz\"\n",
    "\n",
    "    if num % first_number == 0 and num % second_number == 0:\n",
    "        num = final_response\n",
    "    elif num % second_number == 0:\n",
    "        num = second_response\n",
    "    elif num % first_number == 0:\n",
    "        num = first_response\n",
    "    print(num)"
   ]
  },
  {
   "cell_type": "code",
   "execution_count": 61,
   "id": "4c39409a",
   "metadata": {},
   "outputs": [
    {
     "name": "stdout",
     "output_type": "stream",
     "text": [
      "Please enter the first number you wish to use: \n",
      "Please enter the second number you wish to use: \n",
      "Please enter the word you want to appear instead of the first number: \n",
      "Please enter the word you want to appear instead of the second number: \n",
      "Please enter the word you want to appear when both numbers are dividable: \n",
      "fizzbuzz\n"
     ]
    }
   ],
   "source": [
    "game(15)"
   ]
  },
  {
   "cell_type": "code",
   "execution_count": 62,
   "id": "efd92ffd",
   "metadata": {},
   "outputs": [
    {
     "name": "stdout",
     "output_type": "stream",
     "text": [
      "Please enter the first number you wish to use: \n",
      "Please enter the second number you wish to use: \n",
      "Please enter the word you want to appear instead of the first number: \n",
      "Please enter the word you want to appear instead of the second number: \n",
      "Please enter the word you want to appear when both numbers are dividable: \n",
      "1\n",
      "Please enter the first number you wish to use: \n",
      "Please enter the second number you wish to use: \n",
      "Please enter the word you want to appear instead of the first number: \n",
      "Please enter the word you want to appear instead of the second number: \n",
      "Please enter the word you want to appear when both numbers are dividable: \n",
      "fizz\n",
      "Please enter the first number you wish to use: \n",
      "Please enter the second number you wish to use: \n",
      "Please enter the word you want to appear instead of the first number: \n",
      "Please enter the word you want to appear instead of the second number: \n",
      "Please enter the word you want to appear when both numbers are dividable: \n",
      "buzz\n",
      "Please enter the first number you wish to use: \n",
      "Please enter the second number you wish to use: \n",
      "Please enter the word you want to appear instead of the first number: \n",
      "Please enter the word you want to appear instead of the second number: \n",
      "Please enter the word you want to appear when both numbers are dividable: \n",
      "fizzbuzz\n"
     ]
    }
   ],
   "source": [
    "game(1)\n",
    "game(3)\n",
    "game(5)\n",
    "game(30)"
   ]
  },
  {
   "cell_type": "code",
   "execution_count": 63,
   "id": "f078d3f5",
   "metadata": {},
   "outputs": [
    {
     "name": "stdout",
     "output_type": "stream",
     "text": [
      "Please enter the first number you wish to use: 5\n",
      "Please enter the second number you wish to use: 11\n",
      "Please enter the word you want to appear instead of the first number: World\n",
      "Please enter the word you want to appear instead of the second number: Cup\n",
      "Please enter the word you want to appear when both numbers are dividable: World Cup\n",
      "World Cup\n"
     ]
    }
   ],
   "source": [
    "game(55)"
   ]
  },
  {
   "cell_type": "code",
   "execution_count": 2,
   "id": "6351096d",
   "metadata": {},
   "outputs": [],
   "source": [
    "def game(num):\n",
    "    first_number = input(\"Please enter the first number you wish to use: \") or 3 \n",
    "    first_number = int(first_number) \n",
    "    second_number = input(\"Please enter the second number you wish to use: \") or 5\n",
    "    second_number = int(second_number) \n",
    "    first_response = input(\"Please enter the word you want to appear instead of the first number: \") or \"fizz\"\n",
    "    second_response = input(\"Please enter the word you want to appear instead of the second number: \") or \"buzz\"\n",
    "    final_response = input(\"Please enter the word you want to appear when both numbers are dividable: \") or \"fizzbuzz\"\n",
    "\n",
    "    if num % first_number == 0 and num % second_number == 0:\n",
    "        num = final_response\n",
    "    elif num % second_number == 0:\n",
    "        num = second_response\n",
    "    elif num % first_number == 0:\n",
    "        num = first_response\n",
    "    return str(num)"
   ]
  },
  {
   "cell_type": "code",
   "execution_count": 3,
   "id": "fdbb3662",
   "metadata": {},
   "outputs": [
    {
     "name": "stdout",
     "output_type": "stream",
     "text": [
      "Please enter the first number you wish to use: \n",
      "Please enter the second number you wish to use: \n",
      "Please enter the word you want to appear instead of the first number: \n",
      "Please enter the word you want to appear instead of the second number: \n",
      "Please enter the word you want to appear when both numbers are dividable: \n"
     ]
    },
    {
     "data": {
      "text/plain": [
       "'fizzbuzz'"
      ]
     },
     "execution_count": 3,
     "metadata": {},
     "output_type": "execute_result"
    }
   ],
   "source": [
    "game(15)"
   ]
  },
  {
   "cell_type": "code",
   "execution_count": 4,
   "id": "8e8ad5b7",
   "metadata": {},
   "outputs": [
    {
     "name": "stdout",
     "output_type": "stream",
     "text": [
      "Please enter the first number you wish to use: \n",
      "Please enter the second number you wish to use: \n",
      "Please enter the word you want to appear instead of the first number: \n",
      "Please enter the word you want to appear instead of the second number: \n",
      "Please enter the word you want to appear when both numbers are dividable: \n"
     ]
    },
    {
     "data": {
      "text/plain": [
       "'13'"
      ]
     },
     "execution_count": 4,
     "metadata": {},
     "output_type": "execute_result"
    }
   ],
   "source": [
    "game(13)"
   ]
  },
  {
   "cell_type": "code",
   "execution_count": 36,
   "id": "a3efed9b",
   "metadata": {},
   "outputs": [
    {
     "name": "stdout",
     "output_type": "stream",
     "text": [
      "Please enter the first number you wish to use: 3\n",
      "Please enter the second number you wish to use: 5\n",
      "Please enter the word you want to appear instead of the first number: Fizz\n",
      "Please enter the word you want to appear instead of the second number: buzz\n",
      "Please enter the word you want to appear when both numbers are dividable: fizzbuzz\n"
     ]
    },
    {
     "ename": "AssertionError",
     "evalue": "",
     "output_type": "error",
     "traceback": [
      "\u001b[1;31m---------------------------------------------------------------------------\u001b[0m",
      "\u001b[1;31mAssertionError\u001b[0m                            Traceback (most recent call last)",
      "Input \u001b[1;32mIn [36]\u001b[0m, in \u001b[0;36m<cell line: 1>\u001b[1;34m()\u001b[0m\n\u001b[1;32m----> 1\u001b[0m \u001b[38;5;28;01massert\u001b[39;00m game(\u001b[38;5;241m14\u001b[39m) \u001b[38;5;241m==\u001b[39m \u001b[38;5;241m14\u001b[39m\n",
      "\u001b[1;31mAssertionError\u001b[0m: "
     ]
    }
   ],
   "source": [
    "assert game(14) == 14 #assuming 3 and 5 are the numbers are used"
   ]
  },
  {
   "cell_type": "code",
   "execution_count": 37,
   "id": "1e8efdc2",
   "metadata": {},
   "outputs": [
    {
     "name": "stdout",
     "output_type": "stream",
     "text": [
      "Please enter the first number you wish to use: 3\n",
      "Please enter the second number you wish to use: 5\n",
      "Please enter the word you want to appear instead of the first number: fizz\n",
      "Please enter the word you want to appear instead of the second number: buzz\n",
      "Please enter the word you want to appear when both numbers are dividable: fizzbuzz\n"
     ]
    }
   ],
   "source": [
    "assert game(14) == \"14\" #needs to be in string format"
   ]
  },
  {
   "cell_type": "code",
   "execution_count": null,
   "id": "d4704327",
   "metadata": {},
   "outputs": [],
   "source": []
  }
 ],
 "metadata": {
  "kernelspec": {
   "display_name": "Python 3 (ipykernel)",
   "language": "python",
   "name": "python3"
  },
  "language_info": {
   "codemirror_mode": {
    "name": "ipython",
    "version": 3
   },
   "file_extension": ".py",
   "mimetype": "text/x-python",
   "name": "python",
   "nbconvert_exporter": "python",
   "pygments_lexer": "ipython3",
   "version": "3.9.12"
  }
 },
 "nbformat": 4,
 "nbformat_minor": 5
}
